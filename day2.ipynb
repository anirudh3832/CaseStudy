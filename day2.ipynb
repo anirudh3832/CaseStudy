{
 "cells": [
  {
   "cell_type": "code",
   "execution_count": 700,
   "metadata": {},
   "outputs": [],
   "source": [
    "import numpy as np\n",
    "import pandas as pd\n",
    "import matplotlib.pyplot as plt\n",
    "import seaborn as sns\n",
    "import datetime as dt\n",
    "from sklearn.preprocessing import StandardScaler"
   ]
  },
  {
   "cell_type": "code",
   "execution_count": 701,
   "metadata": {},
   "outputs": [],
   "source": [
    "train=pd.read_csv('train.csv')\n",
    "test=pd.read_csv('test.csv',na_values=['?'])\n",
    "MEco=pd.read_csv('MEco.csv',na_values=['?'])"
   ]
  },
  {
   "cell_type": "code",
   "execution_count": 702,
   "metadata": {},
   "outputs": [
    {
     "data": {
      "text/html": [
       "<div>\n",
       "<style scoped>\n",
       "    .dataframe tbody tr th:only-of-type {\n",
       "        vertical-align: middle;\n",
       "    }\n",
       "\n",
       "    .dataframe tbody tr th {\n",
       "        vertical-align: top;\n",
       "    }\n",
       "\n",
       "    .dataframe thead th {\n",
       "        text-align: right;\n",
       "    }\n",
       "</style>\n",
       "<table border=\"1\" class=\"dataframe\">\n",
       "  <thead>\n",
       "    <tr style=\"text-align: right;\">\n",
       "      <th></th>\n",
       "      <th>Year</th>\n",
       "      <th>Month</th>\n",
       "      <th>Day</th>\n",
       "      <th>Temp high (°C)</th>\n",
       "      <th>Temp avg (°C)</th>\n",
       "      <th>Temp low (°C)</th>\n",
       "      <th>Dew Point high (°C)</th>\n",
       "      <th>Dew Point avg (°C)</th>\n",
       "      <th>Dew Point low (°C)</th>\n",
       "      <th>Humidity(%) high</th>\n",
       "      <th>Humidity(%) avg</th>\n",
       "      <th>Humidity(%) low</th>\n",
       "      <th>Sea Level Press.(hPa) high</th>\n",
       "      <th>Sea Level Press.(hPa) avg</th>\n",
       "      <th>Sea Level Press.(hPa) low</th>\n",
       "      <th>Visibility(km) high</th>\n",
       "      <th>Visibility(km) avg</th>\n",
       "      <th>Visibility(km) low</th>\n",
       "      <th>Wind(km/h) low</th>\n",
       "      <th>Wind(km/h) avg</th>\n",
       "      <th>Wind(km/h) high</th>\n",
       "    </tr>\n",
       "  </thead>\n",
       "  <tbody>\n",
       "    <tr>\n",
       "      <th>0</th>\n",
       "      <td>2009</td>\n",
       "      <td>1</td>\n",
       "      <td>16.500000</td>\n",
       "      <td>0.866667</td>\n",
       "      <td>-1.966667</td>\n",
       "      <td>-5.200000</td>\n",
       "      <td>-5.766667</td>\n",
       "      <td>-9.666667</td>\n",
       "      <td>-13.833333</td>\n",
       "      <td>72.366667</td>\n",
       "      <td>57.833333</td>\n",
       "      <td>42.666667</td>\n",
       "      <td>1021.166667</td>\n",
       "      <td>1015.733333</td>\n",
       "      <td>1010.366667</td>\n",
       "      <td>16.000000</td>\n",
       "      <td>13.933333</td>\n",
       "      <td>11.300000</td>\n",
       "      <td>26.666667</td>\n",
       "      <td>11.800000</td>\n",
       "      <td>38.633333</td>\n",
       "    </tr>\n",
       "    <tr>\n",
       "      <th>1</th>\n",
       "      <td>2009</td>\n",
       "      <td>2</td>\n",
       "      <td>14.500000</td>\n",
       "      <td>6.964286</td>\n",
       "      <td>2.785714</td>\n",
       "      <td>-1.642857</td>\n",
       "      <td>-2.464286</td>\n",
       "      <td>-6.392857</td>\n",
       "      <td>-10.571429</td>\n",
       "      <td>69.535714</td>\n",
       "      <td>54.000000</td>\n",
       "      <td>38.107143</td>\n",
       "      <td>1021.714286</td>\n",
       "      <td>1017.071429</td>\n",
       "      <td>1012.464286</td>\n",
       "      <td>16.000000</td>\n",
       "      <td>15.178571</td>\n",
       "      <td>13.285714</td>\n",
       "      <td>27.928571</td>\n",
       "      <td>12.214286</td>\n",
       "      <td>41.642857</td>\n",
       "    </tr>\n",
       "    <tr>\n",
       "      <th>2</th>\n",
       "      <td>2009</td>\n",
       "      <td>3</td>\n",
       "      <td>16.000000</td>\n",
       "      <td>9.838710</td>\n",
       "      <td>5.967742</td>\n",
       "      <td>1.774194</td>\n",
       "      <td>0.258065</td>\n",
       "      <td>-2.903226</td>\n",
       "      <td>-6.741935</td>\n",
       "      <td>74.096774</td>\n",
       "      <td>57.064516</td>\n",
       "      <td>39.548387</td>\n",
       "      <td>1025.096774</td>\n",
       "      <td>1021.064516</td>\n",
       "      <td>1017.032258</td>\n",
       "      <td>16.000000</td>\n",
       "      <td>14.258065</td>\n",
       "      <td>10.677419</td>\n",
       "      <td>27.000000</td>\n",
       "      <td>11.387097</td>\n",
       "      <td>38.612903</td>\n",
       "    </tr>\n",
       "    <tr>\n",
       "      <th>3</th>\n",
       "      <td>2009</td>\n",
       "      <td>4</td>\n",
       "      <td>15.500000</td>\n",
       "      <td>17.100000</td>\n",
       "      <td>12.733333</td>\n",
       "      <td>7.833333</td>\n",
       "      <td>6.233333</td>\n",
       "      <td>2.533333</td>\n",
       "      <td>-1.200000</td>\n",
       "      <td>75.466667</td>\n",
       "      <td>55.700000</td>\n",
       "      <td>35.733333</td>\n",
       "      <td>1018.833333</td>\n",
       "      <td>1014.533333</td>\n",
       "      <td>1010.433333</td>\n",
       "      <td>15.900000</td>\n",
       "      <td>14.066667</td>\n",
       "      <td>10.866667</td>\n",
       "      <td>27.300000</td>\n",
       "      <td>11.366667</td>\n",
       "      <td>39.566667</td>\n",
       "    </tr>\n",
       "    <tr>\n",
       "      <th>4</th>\n",
       "      <td>2009</td>\n",
       "      <td>5</td>\n",
       "      <td>15.413793</td>\n",
       "      <td>20.931034</td>\n",
       "      <td>16.655172</td>\n",
       "      <td>12.206897</td>\n",
       "      <td>12.689655</td>\n",
       "      <td>9.827586</td>\n",
       "      <td>6.206897</td>\n",
       "      <td>85.827586</td>\n",
       "      <td>68.827586</td>\n",
       "      <td>51.413793</td>\n",
       "      <td>1020.448276</td>\n",
       "      <td>1017.241379</td>\n",
       "      <td>1014.172414</td>\n",
       "      <td>15.896552</td>\n",
       "      <td>12.275862</td>\n",
       "      <td>8.965517</td>\n",
       "      <td>22.379310</td>\n",
       "      <td>8.000000</td>\n",
       "      <td>32.620690</td>\n",
       "    </tr>\n",
       "  </tbody>\n",
       "</table>\n",
       "</div>"
      ],
      "text/plain": [
       "   Year  Month        Day  Temp high (°C)  Temp avg (°C)  Temp low (°C)  \\\n",
       "0  2009      1  16.500000        0.866667      -1.966667      -5.200000   \n",
       "1  2009      2  14.500000        6.964286       2.785714      -1.642857   \n",
       "2  2009      3  16.000000        9.838710       5.967742       1.774194   \n",
       "3  2009      4  15.500000       17.100000      12.733333       7.833333   \n",
       "4  2009      5  15.413793       20.931034      16.655172      12.206897   \n",
       "\n",
       "   Dew Point high (°C)  Dew Point avg (°C)  Dew Point low (°C)  \\\n",
       "0            -5.766667           -9.666667          -13.833333   \n",
       "1            -2.464286           -6.392857          -10.571429   \n",
       "2             0.258065           -2.903226           -6.741935   \n",
       "3             6.233333            2.533333           -1.200000   \n",
       "4            12.689655            9.827586            6.206897   \n",
       "\n",
       "   Humidity(%) high  Humidity(%) avg  Humidity(%) low  \\\n",
       "0         72.366667        57.833333        42.666667   \n",
       "1         69.535714        54.000000        38.107143   \n",
       "2         74.096774        57.064516        39.548387   \n",
       "3         75.466667        55.700000        35.733333   \n",
       "4         85.827586        68.827586        51.413793   \n",
       "\n",
       "   Sea Level Press.(hPa) high  Sea Level Press.(hPa) avg  \\\n",
       "0                 1021.166667                1015.733333   \n",
       "1                 1021.714286                1017.071429   \n",
       "2                 1025.096774                1021.064516   \n",
       "3                 1018.833333                1014.533333   \n",
       "4                 1020.448276                1017.241379   \n",
       "\n",
       "   Sea Level Press.(hPa) low  Visibility(km) high  Visibility(km) avg  \\\n",
       "0                1010.366667            16.000000           13.933333   \n",
       "1                1012.464286            16.000000           15.178571   \n",
       "2                1017.032258            16.000000           14.258065   \n",
       "3                1010.433333            15.900000           14.066667   \n",
       "4                1014.172414            15.896552           12.275862   \n",
       "\n",
       "   Visibility(km) low  Wind(km/h) low  Wind(km/h) avg  Wind(km/h) high  \n",
       "0           11.300000       26.666667       11.800000        38.633333  \n",
       "1           13.285714       27.928571       12.214286        41.642857  \n",
       "2           10.677419       27.000000       11.387097        38.612903  \n",
       "3           10.866667       27.300000       11.366667        39.566667  \n",
       "4            8.965517       22.379310        8.000000        32.620690  "
      ]
     },
     "execution_count": 702,
     "metadata": {},
     "output_type": "execute_result"
    }
   ],
   "source": [
    "w.head()"
   ]
  },
  {
   "cell_type": "code",
   "execution_count": 703,
   "metadata": {},
   "outputs": [],
   "source": [
    "pd.options.display.max_columns = None\n",
    "pd.options.display.max_rows = 100"
   ]
  },
  {
   "cell_type": "code",
   "execution_count": 704,
   "metadata": {},
   "outputs": [],
   "source": [
    "df1 = pd.read_excel('weather.xlsx', '2009',na_values=['?','-','<'])\n",
    "df2 = pd.read_excel('weather.xlsx', '2010',na_values=['?','-','<'])\n",
    "df3 = pd.read_excel('weather.xlsx', '2011',na_values=['?','-','<'])\n",
    "df4 = pd.read_excel('weather.xlsx', '2012',na_values=['?','-','<'])\n",
    "df5 = pd.read_excel('weather.xlsx', '2013',na_values=['?','-','<'])\n",
    "df6 = pd.read_excel('weather.xlsx', '2014',na_values=['?','-','<'])\n",
    "df7 = pd.read_excel('weather.xlsx', '2015',na_values=['?','-','<'])\n",
    "w=pd.concat([df1,df2,df3,df4,df5,df6,df7])"
   ]
  },
  {
   "cell_type": "code",
   "execution_count": 705,
   "metadata": {},
   "outputs": [
    {
     "data": {
      "text/plain": [
       "(2556, 23)"
      ]
     },
     "execution_count": 705,
     "metadata": {},
     "output_type": "execute_result"
    }
   ],
   "source": [
    "w.shape"
   ]
  },
  {
   "cell_type": "code",
   "execution_count": 706,
   "metadata": {},
   "outputs": [
    {
     "data": {
      "text/html": [
       "<div>\n",
       "<style scoped>\n",
       "    .dataframe tbody tr th:only-of-type {\n",
       "        vertical-align: middle;\n",
       "    }\n",
       "\n",
       "    .dataframe tbody tr th {\n",
       "        vertical-align: top;\n",
       "    }\n",
       "\n",
       "    .dataframe thead th {\n",
       "        text-align: right;\n",
       "    }\n",
       "</style>\n",
       "<table border=\"1\" class=\"dataframe\">\n",
       "  <thead>\n",
       "    <tr style=\"text-align: right;\">\n",
       "      <th></th>\n",
       "      <th>Year</th>\n",
       "      <th>Month</th>\n",
       "      <th>ProductCategory</th>\n",
       "      <th>Sales(In ThousandDollars)</th>\n",
       "    </tr>\n",
       "  </thead>\n",
       "  <tbody>\n",
       "    <tr>\n",
       "      <th>0</th>\n",
       "      <td>2009</td>\n",
       "      <td>1</td>\n",
       "      <td>WomenClothing</td>\n",
       "      <td>1755.0</td>\n",
       "    </tr>\n",
       "    <tr>\n",
       "      <th>1</th>\n",
       "      <td>2009</td>\n",
       "      <td>1</td>\n",
       "      <td>MenClothing</td>\n",
       "      <td>524.0</td>\n",
       "    </tr>\n",
       "    <tr>\n",
       "      <th>2</th>\n",
       "      <td>2009</td>\n",
       "      <td>1</td>\n",
       "      <td>OtherClothing</td>\n",
       "      <td>936.0</td>\n",
       "    </tr>\n",
       "    <tr>\n",
       "      <th>3</th>\n",
       "      <td>2009</td>\n",
       "      <td>2</td>\n",
       "      <td>WomenClothing</td>\n",
       "      <td>1729.0</td>\n",
       "    </tr>\n",
       "    <tr>\n",
       "      <th>4</th>\n",
       "      <td>2009</td>\n",
       "      <td>2</td>\n",
       "      <td>MenClothing</td>\n",
       "      <td>496.0</td>\n",
       "    </tr>\n",
       "  </tbody>\n",
       "</table>\n",
       "</div>"
      ],
      "text/plain": [
       "   Year  Month ProductCategory  Sales(In ThousandDollars)\n",
       "0  2009      1   WomenClothing                     1755.0\n",
       "1  2009      1     MenClothing                      524.0\n",
       "2  2009      1   OtherClothing                      936.0\n",
       "3  2009      2   WomenClothing                     1729.0\n",
       "4  2009      2     MenClothing                      496.0"
      ]
     },
     "execution_count": 706,
     "metadata": {},
     "output_type": "execute_result"
    }
   ],
   "source": [
    "train.head()"
   ]
  },
  {
   "cell_type": "code",
   "execution_count": 707,
   "metadata": {},
   "outputs": [],
   "source": [
    "months=['Jan','Feb','Mar','Apr','May','Jun','Jul','Aug','Sep','Oct','Nov','Dec']"
   ]
  },
  {
   "cell_type": "code",
   "execution_count": 708,
   "metadata": {},
   "outputs": [],
   "source": [
    "for i in range(len(months)):\n",
    "  w['Month'].replace(months[i],i+1,inplace=True)"
   ]
  },
  {
   "cell_type": "code",
   "execution_count": 709,
   "metadata": {},
   "outputs": [
    {
     "data": {
      "text/html": [
       "<div>\n",
       "<style scoped>\n",
       "    .dataframe tbody tr th:only-of-type {\n",
       "        vertical-align: middle;\n",
       "    }\n",
       "\n",
       "    .dataframe tbody tr th {\n",
       "        vertical-align: top;\n",
       "    }\n",
       "\n",
       "    .dataframe thead th {\n",
       "        text-align: right;\n",
       "    }\n",
       "</style>\n",
       "<table border=\"1\" class=\"dataframe\">\n",
       "  <thead>\n",
       "    <tr style=\"text-align: right;\">\n",
       "      <th></th>\n",
       "      <th>Year</th>\n",
       "      <th>Month</th>\n",
       "      <th>Day</th>\n",
       "      <th>Temp high (°C)</th>\n",
       "      <th>Temp avg (°C)</th>\n",
       "      <th>Temp low (°C)</th>\n",
       "      <th>Dew Point high (°C)</th>\n",
       "      <th>Dew Point avg (°C)</th>\n",
       "      <th>Dew Point low (°C)</th>\n",
       "      <th>Humidity (%) high</th>\n",
       "      <th>Humidity (%) avg</th>\n",
       "      <th>Humidity (%) low</th>\n",
       "      <th>Sea Level Press. (hPa) high</th>\n",
       "      <th>Sea Level Press. (hPa) avg</th>\n",
       "      <th>Sea Level Press. (hPa) low</th>\n",
       "      <th>Visibility (km) high</th>\n",
       "      <th>Visibility (km) avg</th>\n",
       "      <th>Visibility (km) low</th>\n",
       "      <th>Wind (km/h) low</th>\n",
       "      <th>Wind (km/h) avg</th>\n",
       "      <th>Wind (km/h) high</th>\n",
       "      <th>Precip. (mm) sum</th>\n",
       "      <th>WeatherEvent</th>\n",
       "    </tr>\n",
       "  </thead>\n",
       "  <tbody>\n",
       "    <tr>\n",
       "      <th>0</th>\n",
       "      <td>2009</td>\n",
       "      <td>1</td>\n",
       "      <td>1</td>\n",
       "      <td>-3</td>\n",
       "      <td>-6</td>\n",
       "      <td>-9</td>\n",
       "      <td>-16</td>\n",
       "      <td>-17</td>\n",
       "      <td>-19</td>\n",
       "      <td>54</td>\n",
       "      <td>43</td>\n",
       "      <td>32</td>\n",
       "      <td>1025</td>\n",
       "      <td>1023</td>\n",
       "      <td>1015</td>\n",
       "      <td>16</td>\n",
       "      <td>16</td>\n",
       "      <td>16</td>\n",
       "      <td>37</td>\n",
       "      <td>18</td>\n",
       "      <td>60</td>\n",
       "      <td>0</td>\n",
       "      <td>NaN</td>\n",
       "    </tr>\n",
       "    <tr>\n",
       "      <th>1</th>\n",
       "      <td>2009</td>\n",
       "      <td>1</td>\n",
       "      <td>2</td>\n",
       "      <td>1</td>\n",
       "      <td>-2</td>\n",
       "      <td>-5</td>\n",
       "      <td>-3</td>\n",
       "      <td>-7</td>\n",
       "      <td>-17</td>\n",
       "      <td>78</td>\n",
       "      <td>57</td>\n",
       "      <td>36</td>\n",
       "      <td>1022</td>\n",
       "      <td>1012</td>\n",
       "      <td>1007</td>\n",
       "      <td>16</td>\n",
       "      <td>13</td>\n",
       "      <td>2</td>\n",
       "      <td>27</td>\n",
       "      <td>10</td>\n",
       "      <td>48</td>\n",
       "      <td>T</td>\n",
       "      <td>Snow</td>\n",
       "    </tr>\n",
       "    <tr>\n",
       "      <th>2</th>\n",
       "      <td>2009</td>\n",
       "      <td>1</td>\n",
       "      <td>3</td>\n",
       "      <td>3</td>\n",
       "      <td>1</td>\n",
       "      <td>-2</td>\n",
       "      <td>-5</td>\n",
       "      <td>-9</td>\n",
       "      <td>-13</td>\n",
       "      <td>72</td>\n",
       "      <td>54</td>\n",
       "      <td>35</td>\n",
       "      <td>1018</td>\n",
       "      <td>1015</td>\n",
       "      <td>1008</td>\n",
       "      <td>16</td>\n",
       "      <td>16</td>\n",
       "      <td>16</td>\n",
       "      <td>27</td>\n",
       "      <td>16</td>\n",
       "      <td>42</td>\n",
       "      <td>T</td>\n",
       "      <td>NaN</td>\n",
       "    </tr>\n",
       "    <tr>\n",
       "      <th>3</th>\n",
       "      <td>2009</td>\n",
       "      <td>1</td>\n",
       "      <td>4</td>\n",
       "      <td>6</td>\n",
       "      <td>1</td>\n",
       "      <td>-4</td>\n",
       "      <td>-10</td>\n",
       "      <td>-12</td>\n",
       "      <td>-13</td>\n",
       "      <td>55</td>\n",
       "      <td>42</td>\n",
       "      <td>29</td>\n",
       "      <td>1020</td>\n",
       "      <td>1017</td>\n",
       "      <td>1015</td>\n",
       "      <td>16</td>\n",
       "      <td>16</td>\n",
       "      <td>16</td>\n",
       "      <td>32</td>\n",
       "      <td>12</td>\n",
       "      <td>40</td>\n",
       "      <td>0</td>\n",
       "      <td>NaN</td>\n",
       "    </tr>\n",
       "    <tr>\n",
       "      <th>4</th>\n",
       "      <td>2009</td>\n",
       "      <td>1</td>\n",
       "      <td>5</td>\n",
       "      <td>6</td>\n",
       "      <td>5</td>\n",
       "      <td>3</td>\n",
       "      <td>-1</td>\n",
       "      <td>-5</td>\n",
       "      <td>-16</td>\n",
       "      <td>62</td>\n",
       "      <td>48</td>\n",
       "      <td>33</td>\n",
       "      <td>1016</td>\n",
       "      <td>1014</td>\n",
       "      <td>1013</td>\n",
       "      <td>16</td>\n",
       "      <td>16</td>\n",
       "      <td>16</td>\n",
       "      <td>23</td>\n",
       "      <td>11</td>\n",
       "      <td>34</td>\n",
       "      <td>T</td>\n",
       "      <td>NaN</td>\n",
       "    </tr>\n",
       "  </tbody>\n",
       "</table>\n",
       "</div>"
      ],
      "text/plain": [
       "   Year  Month  Day Temp high (°C) Temp avg (°C) Temp low (°C)  \\\n",
       "0  2009      1    1             -3            -6            -9   \n",
       "1  2009      1    2              1            -2            -5   \n",
       "2  2009      1    3              3             1            -2   \n",
       "3  2009      1    4              6             1            -4   \n",
       "4  2009      1    5              6             5             3   \n",
       "\n",
       "  Dew Point high (°C) Dew Point avg (°C) Dew Point low (°C) Humidity (%) high  \\\n",
       "0                 -16                -17                -19                54   \n",
       "1                  -3                 -7                -17                78   \n",
       "2                  -5                 -9                -13                72   \n",
       "3                 -10                -12                -13                55   \n",
       "4                  -1                 -5                -16                62   \n",
       "\n",
       "  Humidity (%) avg Humidity (%) low Sea Level Press. (hPa) high  \\\n",
       "0               43               32                        1025   \n",
       "1               57               36                        1022   \n",
       "2               54               35                        1018   \n",
       "3               42               29                        1020   \n",
       "4               48               33                        1016   \n",
       "\n",
       "  Sea Level Press. (hPa) avg Sea Level Press. (hPa) low Visibility (km) high  \\\n",
       "0                       1023                       1015                   16   \n",
       "1                       1012                       1007                   16   \n",
       "2                       1015                       1008                   16   \n",
       "3                       1017                       1015                   16   \n",
       "4                       1014                       1013                   16   \n",
       "\n",
       "  Visibility (km) avg Visibility (km) low Wind (km/h) low Wind (km/h) avg  \\\n",
       "0                  16                  16              37              18   \n",
       "1                  13                   2              27              10   \n",
       "2                  16                  16              27              16   \n",
       "3                  16                  16              32              12   \n",
       "4                  16                  16              23              11   \n",
       "\n",
       "  Wind (km/h) high Precip. (mm) sum WeatherEvent  \n",
       "0               60                0          NaN  \n",
       "1               48                T         Snow  \n",
       "2               42                T          NaN  \n",
       "3               40                0          NaN  \n",
       "4               34                T          NaN  "
      ]
     },
     "execution_count": 709,
     "metadata": {},
     "output_type": "execute_result"
    }
   ],
   "source": [
    "w.head()"
   ]
  },
  {
   "cell_type": "code",
   "execution_count": 710,
   "metadata": {},
   "outputs": [],
   "source": [
    "cols=list(w.columns)\n",
    "newcols=[]\n",
    "for col in cols:\n",
    "    newcols.append(str(col).replace(\"\\xa0\",\"\"))\n",
    "w.columns=newcols"
   ]
  },
  {
   "cell_type": "code",
   "execution_count": 711,
   "metadata": {},
   "outputs": [
    {
     "data": {
      "text/plain": [
       "Year                             0\n",
       "Month                            0\n",
       "Day                              0\n",
       "Temp high (°C)                   2\n",
       "Temp avg (°C)                    2\n",
       "Temp low (°C)                    2\n",
       "Dew Point high (°C)              2\n",
       "Dew Point avg (°C)               2\n",
       "Dew Point low (°C)               2\n",
       "Humidity(%) high                 2\n",
       "Humidity(%) avg                  2\n",
       "Humidity(%) low                  2\n",
       "Sea Level Press.(hPa) high      14\n",
       "Sea Level Press.(hPa) avg       14\n",
       "Sea Level Press.(hPa) low       14\n",
       "Visibility(km) high             23\n",
       "Visibility(km) avg              23\n",
       "Visibility(km) low              23\n",
       "Wind(km/h) low                  15\n",
       "Wind(km/h) avg                  15\n",
       "Wind(km/h) high                 46\n",
       "Precip.(mm) sum                  1\n",
       "WeatherEvent                  1662\n",
       "dtype: int64"
      ]
     },
     "execution_count": 711,
     "metadata": {},
     "output_type": "execute_result"
    }
   ],
   "source": [
    "w.isnull().sum()"
   ]
  },
  {
   "cell_type": "code",
   "execution_count": 712,
   "metadata": {},
   "outputs": [],
   "source": [
    "w.dropna(subset=['Year', 'Month', 'Day', 'Temp high (°C)', 'Temp avg (°C)',\n",
    "       'Temp low (°C)', 'Dew Point high (°C)', 'Dew Point avg (°C)',\n",
    "       'Dew Point low (°C)', 'Humidity(%) high', 'Humidity(%) avg',\n",
    "       'Humidity(%) low', 'Sea Level Press.(hPa) high',\n",
    "       'Sea Level Press.(hPa) avg', 'Sea Level Press.(hPa) low',\n",
    "       'Visibility(km) high', 'Visibility(km) avg', 'Visibility(km) low',\n",
    "       'Wind(km/h) low', 'Wind(km/h) avg', 'Wind(km/h) high',\n",
    "       'Precip.(mm) sum'],inplace=True)"
   ]
  },
  {
   "cell_type": "code",
   "execution_count": 713,
   "metadata": {},
   "outputs": [
    {
     "data": {
      "text/plain": [
       "Index(['Year', 'Month', 'Day', 'Temp high (°C)', 'Temp avg (°C)',\n",
       "       'Temp low (°C)', 'Dew Point high (°C)', 'Dew Point avg (°C)',\n",
       "       'Dew Point low (°C)', 'Humidity(%) high', 'Humidity(%) avg',\n",
       "       'Humidity(%) low', 'Sea Level Press.(hPa) high',\n",
       "       'Sea Level Press.(hPa) avg', 'Sea Level Press.(hPa) low',\n",
       "       'Visibility(km) high', 'Visibility(km) avg', 'Visibility(km) low',\n",
       "       'Wind(km/h) low', 'Wind(km/h) avg', 'Wind(km/h) high',\n",
       "       'Precip.(mm) sum', 'WeatherEvent'],\n",
       "      dtype='object')"
      ]
     },
     "execution_count": 713,
     "metadata": {},
     "output_type": "execute_result"
    }
   ],
   "source": [
    "w.columns"
   ]
  },
  {
   "cell_type": "markdown",
   "metadata": {},
   "source": [
    "w[w['WeatherEvent'].notnull()]['Precip.(mm) sum'].replace('T',w[w['WeatherEvent'].notnull()]['Precip.(mm) sum'].mean(),inplace=True)"
   ]
  },
  {
   "cell_type": "code",
   "execution_count": 714,
   "metadata": {},
   "outputs": [],
   "source": [
    "numcols=['Temp high (°C)', 'Temp avg (°C)',\n",
    "       'Temp low (°C)', 'Dew Point high (°C)', 'Dew Point avg (°C)',\n",
    "       'Dew Point low (°C)', 'Humidity(%) high', 'Humidity(%) avg',\n",
    "       'Humidity(%) low', 'Sea Level Press.(hPa) high',\n",
    "       'Sea Level Press.(hPa) avg', 'Sea Level Press.(hPa) low',\n",
    "       'Visibility(km) high', 'Visibility(km) avg', 'Visibility(km) low',\n",
    "       'Wind(km/h) low', 'Wind(km/h) avg', 'Wind(km/h) high',\n",
    "       ]"
   ]
  },
  {
   "cell_type": "code",
   "execution_count": 715,
   "metadata": {},
   "outputs": [
    {
     "name": "stdout",
     "output_type": "stream",
     "text": [
      "   Year  Month  Day Temp high (°C) Temp avg (°C) Temp low (°C)  \\\n",
      "0  2014      1    1           high           avg           low   \n",
      "\n",
      "  Dew Point high (°C) Dew Point avg (°C) Dew Point low (°C) Humidity(%) high  \\\n",
      "0                high                avg                low             high   \n",
      "\n",
      "  Humidity(%) avg Humidity(%) low Sea Level Press.(hPa) high  \\\n",
      "0             avg             low                       high   \n",
      "\n",
      "  Sea Level Press.(hPa) avg Sea Level Press.(hPa) low Visibility(km) high  \\\n",
      "0                       avg                       low                high   \n",
      "\n",
      "  Visibility(km) avg Visibility(km) low Wind(km/h) low Wind(km/h) avg  \\\n",
      "0                avg                low            low            avg   \n",
      "\n",
      "  Wind(km/h) high Precip.(mm) sum WeatherEvent  \n",
      "0            high             sum          NaN  \n"
     ]
    }
   ],
   "source": [
    "print(w.loc[w['Temp high (°C)']=='high'])"
   ]
  },
  {
   "cell_type": "code",
   "execution_count": 716,
   "metadata": {},
   "outputs": [],
   "source": [
    "w.drop(w.index[0],inplace=True)\n",
    "w.drop(columns='Precip.(mm) sum',inplace=True)"
   ]
  },
  {
   "cell_type": "code",
   "execution_count": 717,
   "metadata": {},
   "outputs": [
    {
     "name": "stdout",
     "output_type": "stream",
     "text": [
      "Temp high (°C)\n",
      "Temp avg (°C)\n",
      "Temp low (°C)\n",
      "Dew Point high (°C)\n",
      "Dew Point avg (°C)\n",
      "Dew Point low (°C)\n",
      "Humidity(%) high\n",
      "Humidity(%) avg\n",
      "Humidity(%) low\n",
      "Sea Level Press.(hPa) high\n",
      "Sea Level Press.(hPa) avg\n",
      "Sea Level Press.(hPa) low\n",
      "Visibility(km) high\n",
      "Visibility(km) avg\n",
      "Visibility(km) low\n",
      "Wind(km/h) low\n",
      "Wind(km/h) avg\n",
      "Wind(km/h) high\n"
     ]
    }
   ],
   "source": [
    "for col in numcols:\n",
    "    print(col)\n",
    "    w[col]=w[col].astype('float64')"
   ]
  },
  {
   "cell_type": "code",
   "execution_count": 718,
   "metadata": {},
   "outputs": [
    {
     "data": {
      "text/plain": [
       "Year                            int64\n",
       "Month                           int64\n",
       "Day                             int64\n",
       "Temp high (°C)                float64\n",
       "Temp avg (°C)                 float64\n",
       "Temp low (°C)                 float64\n",
       "Dew Point high (°C)           float64\n",
       "Dew Point avg (°C)            float64\n",
       "Dew Point low (°C)            float64\n",
       "Humidity(%) high              float64\n",
       "Humidity(%) avg               float64\n",
       "Humidity(%) low               float64\n",
       "Sea Level Press.(hPa) high    float64\n",
       "Sea Level Press.(hPa) avg     float64\n",
       "Sea Level Press.(hPa) low     float64\n",
       "Visibility(km) high           float64\n",
       "Visibility(km) avg            float64\n",
       "Visibility(km) low            float64\n",
       "Wind(km/h) low                float64\n",
       "Wind(km/h) avg                float64\n",
       "Wind(km/h) high               float64\n",
       "WeatherEvent                   object\n",
       "dtype: object"
      ]
     },
     "execution_count": 718,
     "metadata": {},
     "output_type": "execute_result"
    }
   ],
   "source": [
    "w.dtypes"
   ]
  },
  {
   "cell_type": "raw",
   "metadata": {},
   "source": [
    "w[w['WeatherEvent'].isnull()]['Precip.(mm) sum']=0\n",
    "w[w['WeatherEvent'].notnull()]['Precip.(mm) sum'].replace('T',w[w['WeatherEvent'].notnull() & w['WeatherEvent']!='T' ]['Precip.(mm) sum'].mean(),inplace=True)"
   ]
  },
  {
   "cell_type": "code",
   "execution_count": 719,
   "metadata": {},
   "outputs": [],
   "source": [
    "w['WeatherEvent'].replace(np.nan,0,inplace=True)"
   ]
  },
  {
   "cell_type": "code",
   "execution_count": 720,
   "metadata": {},
   "outputs": [],
   "source": [
    "w['WeatherEvent'].replace(0,'Normal',inplace=True)"
   ]
  },
  {
   "cell_type": "code",
   "execution_count": 721,
   "metadata": {},
   "outputs": [
    {
     "data": {
      "text/plain": [
       "Normal               1613\n",
       "Rain                  586\n",
       "Fog , Rain            137\n",
       "Snow                   61\n",
       "Fog , Snow             36\n",
       "Rain , Snow            24\n",
       "Fog , Rain , Snow      20\n",
       "Fog                    12\n",
       "Thunderstorm            1\n",
       "Name: WeatherEvent, dtype: int64"
      ]
     },
     "execution_count": 721,
     "metadata": {},
     "output_type": "execute_result"
    }
   ],
   "source": [
    "w['WeatherEvent'].value_counts()"
   ]
  },
  {
   "cell_type": "code",
   "execution_count": 722,
   "metadata": {},
   "outputs": [],
   "source": [
    "from sklearn.preprocessing import LabelEncoder\n",
    "from sklearn.ensemble import RandomForestRegressor"
   ]
  },
  {
   "cell_type": "code",
   "execution_count": 723,
   "metadata": {},
   "outputs": [],
   "source": [
    "le=LabelEncoder()"
   ]
  },
  {
   "cell_type": "code",
   "execution_count": 724,
   "metadata": {},
   "outputs": [],
   "source": [
    "w['WeatherEvent']=le.fit_transform(w['WeatherEvent'])"
   ]
  },
  {
   "cell_type": "code",
   "execution_count": 725,
   "metadata": {},
   "outputs": [],
   "source": [
    "w=w.groupby(by=['Year','Month']).mean()"
   ]
  },
  {
   "cell_type": "code",
   "execution_count": 726,
   "metadata": {},
   "outputs": [],
   "source": [
    "w.reset_index(inplace=True)"
   ]
  },
  {
   "cell_type": "code",
   "execution_count": 727,
   "metadata": {},
   "outputs": [],
   "source": [
    "w.drop(columns='WeatherEvent',inplace=True)"
   ]
  },
  {
   "cell_type": "code",
   "execution_count": null,
   "metadata": {},
   "outputs": [],
   "source": []
  },
  {
   "cell_type": "code",
   "execution_count": 728,
   "metadata": {},
   "outputs": [],
   "source": [
    "data=pd.merge(w,train)\n",
    "testdata=pd.merge(w,test)\n",
    "data1=pd.merge(data,MEco)\n",
    "testdata1=pd.merge(testdata,MEco)\n",
    "\n",
    "\n",
    "\n",
    "data1=pd.get_dummies(data1,columns=['ProductCategory'])\n",
    "testdata1=pd.get_dummies(testdata1,columns=['ProductCategory'])"
   ]
  },
  {
   "cell_type": "code",
   "execution_count": 729,
   "metadata": {},
   "outputs": [
    {
     "data": {
      "text/plain": [
       "(216, 41)"
      ]
     },
     "execution_count": 729,
     "metadata": {},
     "output_type": "execute_result"
    }
   ],
   "source": [
    "data1.shape"
   ]
  },
  {
   "cell_type": "code",
   "execution_count": 730,
   "metadata": {},
   "outputs": [
    {
     "data": {
      "text/plain": [
       "(36, 41)"
      ]
     },
     "execution_count": 730,
     "metadata": {},
     "output_type": "execute_result"
    }
   ],
   "source": [
    "testdata1.shape"
   ]
  },
  {
   "cell_type": "code",
   "execution_count": 731,
   "metadata": {},
   "outputs": [
    {
     "data": {
      "text/plain": [
       "Index(['Year', 'Month', 'Day', 'Temp high (°C)', 'Temp avg (°C)',\n",
       "       'Temp low (°C)', 'Dew Point high (°C)', 'Dew Point avg (°C)',\n",
       "       'Dew Point low (°C)', 'Humidity(%) high', 'Humidity(%) avg',\n",
       "       'Humidity(%) low', 'Sea Level Press.(hPa) high',\n",
       "       'Sea Level Press.(hPa) avg', 'Sea Level Press.(hPa) low',\n",
       "       'Visibility(km) high', 'Visibility(km) avg', 'Visibility(km) low',\n",
       "       'Wind(km/h) low', 'Wind(km/h) avg', 'Wind(km/h) high',\n",
       "       'ProductCategory', 'Sales(In ThousandDollars)'],\n",
       "      dtype='object')"
      ]
     },
     "execution_count": 731,
     "metadata": {},
     "output_type": "execute_result"
    }
   ],
   "source": [
    "data.columns"
   ]
  },
  {
   "cell_type": "code",
   "execution_count": 732,
   "metadata": {},
   "outputs": [
    {
     "data": {
      "text/plain": [
       "Index(['Monthly Nominal GDP Index (inMillion$)',\n",
       "       'Monthly Real GDP Index (inMillion$)', 'CPI', 'unemployment rate',\n",
       "       'CommercialBankInterestRateonCreditCardPlans',\n",
       "       'Finance Rate on Personal Loans at Commercial Banks, 24 Month Loan',\n",
       "       'Earnings or wages  in dollars per hour',\n",
       "       'AdvertisingExpenses (in Thousand Dollars)',\n",
       "       'Cotton Monthly Price - US cents per Pound(lbs)', 'Change(in%)',\n",
       "       'Average upland planted(million acres)',\n",
       "       'Average upland harvested(million acres)', 'yieldperharvested acre',\n",
       "       'Production (in  480-lb netweright in million bales)',\n",
       "       'Mill use  (in  480-lb netweright in million bales)', 'Exports', 'Year',\n",
       "       'Month'],\n",
       "      dtype='object')"
      ]
     },
     "execution_count": 732,
     "metadata": {},
     "output_type": "execute_result"
    }
   ],
   "source": [
    "MEco.columns"
   ]
  },
  {
   "cell_type": "code",
   "execution_count": 733,
   "metadata": {},
   "outputs": [
    {
     "data": {
      "text/plain": [
       "Index(['Year', 'Month', 'Day', 'Temp high (°C)', 'Temp avg (°C)',\n",
       "       'Temp low (°C)', 'Dew Point high (°C)', 'Dew Point avg (°C)',\n",
       "       'Dew Point low (°C)', 'Humidity(%) high', 'Humidity(%) avg',\n",
       "       'Humidity(%) low', 'Sea Level Press.(hPa) high',\n",
       "       'Sea Level Press.(hPa) avg', 'Sea Level Press.(hPa) low',\n",
       "       'Visibility(km) high', 'Visibility(km) avg', 'Visibility(km) low',\n",
       "       'Wind(km/h) low', 'Wind(km/h) avg', 'Wind(km/h) high',\n",
       "       'Sales(In ThousandDollars)', 'Monthly Nominal GDP Index (inMillion$)',\n",
       "       'Monthly Real GDP Index (inMillion$)', 'CPI', 'unemployment rate',\n",
       "       'CommercialBankInterestRateonCreditCardPlans',\n",
       "       'Finance Rate on Personal Loans at Commercial Banks, 24 Month Loan',\n",
       "       'Earnings or wages  in dollars per hour',\n",
       "       'AdvertisingExpenses (in Thousand Dollars)',\n",
       "       'Cotton Monthly Price - US cents per Pound(lbs)', 'Change(in%)',\n",
       "       'Average upland planted(million acres)',\n",
       "       'Average upland harvested(million acres)', 'yieldperharvested acre',\n",
       "       'Production (in  480-lb netweright in million bales)',\n",
       "       'Mill use  (in  480-lb netweright in million bales)', 'Exports',\n",
       "       'ProductCategory_MenClothing', 'ProductCategory_OtherClothing',\n",
       "       'ProductCategory_WomenClothing'],\n",
       "      dtype='object')"
      ]
     },
     "execution_count": 733,
     "metadata": {},
     "output_type": "execute_result"
    }
   ],
   "source": [
    "testdata1.columns"
   ]
  },
  {
   "cell_type": "code",
   "execution_count": 734,
   "metadata": {},
   "outputs": [],
   "source": [
    "data1.drop(columns='AdvertisingExpenses (in Thousand Dollars)',inplace=True)\n",
    "testdata1.drop(columns='AdvertisingExpenses (in Thousand Dollars)',inplace=True)"
   ]
  },
  {
   "cell_type": "code",
   "execution_count": 735,
   "metadata": {},
   "outputs": [],
   "source": [
    "testdata1.drop(columns=['Sales(In ThousandDollars)'],inplace=True)"
   ]
  },
  {
   "cell_type": "code",
   "execution_count": 736,
   "metadata": {},
   "outputs": [],
   "source": [
    "rf=RandomForestRegressor(n_estimators=100)"
   ]
  },
  {
   "cell_type": "code",
   "execution_count": 737,
   "metadata": {},
   "outputs": [],
   "source": [
    "data1.dropna(inplace=True)"
   ]
  },
  {
   "cell_type": "code",
   "execution_count": 738,
   "metadata": {},
   "outputs": [],
   "source": [
    "X=data1.drop(columns=['Sales(In ThousandDollars)'])\n",
    "y=data1['Sales(In ThousandDollars)']"
   ]
  },
  {
   "cell_type": "code",
   "execution_count": 739,
   "metadata": {},
   "outputs": [
    {
     "data": {
      "text/plain": [
       "Year                                                                 0\n",
       "Month                                                                0\n",
       "Day                                                                  0\n",
       "Temp high (°C)                                                       0\n",
       "Temp avg (°C)                                                        0\n",
       "Temp low (°C)                                                        0\n",
       "Dew Point high (°C)                                                  0\n",
       "Dew Point avg (°C)                                                   0\n",
       "Dew Point low (°C)                                                   0\n",
       "Humidity(%) high                                                     0\n",
       "Humidity(%) avg                                                      0\n",
       "Humidity(%) low                                                      0\n",
       "Sea Level Press.(hPa) high                                           0\n",
       "Sea Level Press.(hPa) avg                                            0\n",
       "Sea Level Press.(hPa) low                                            0\n",
       "Visibility(km) high                                                  0\n",
       "Visibility(km) avg                                                   0\n",
       "Visibility(km) low                                                   0\n",
       "Wind(km/h) low                                                       0\n",
       "Wind(km/h) avg                                                       0\n",
       "Wind(km/h) high                                                      0\n",
       "Monthly Nominal GDP Index (inMillion$)                               0\n",
       "Monthly Real GDP Index (inMillion$)                                  0\n",
       "CPI                                                                  0\n",
       "unemployment rate                                                    0\n",
       "CommercialBankInterestRateonCreditCardPlans                          0\n",
       "Finance Rate on Personal Loans at Commercial Banks, 24 Month Loan    0\n",
       "Earnings or wages  in dollars per hour                               0\n",
       "Cotton Monthly Price - US cents per Pound(lbs)                       0\n",
       "Change(in%)                                                          0\n",
       "Average upland planted(million acres)                                0\n",
       "Average upland harvested(million acres)                              0\n",
       "yieldperharvested acre                                               0\n",
       "Production (in  480-lb netweright in million bales)                  0\n",
       "Mill use  (in  480-lb netweright in million bales)                   0\n",
       "Exports                                                              0\n",
       "ProductCategory_MenClothing                                          0\n",
       "ProductCategory_OtherClothing                                        0\n",
       "ProductCategory_WomenClothing                                        0\n",
       "dtype: int64"
      ]
     },
     "execution_count": 739,
     "metadata": {},
     "output_type": "execute_result"
    }
   ],
   "source": [
    "X.isnull().sum()"
   ]
  },
  {
   "cell_type": "code",
   "execution_count": 740,
   "metadata": {},
   "outputs": [
    {
     "data": {
      "text/plain": [
       "0"
      ]
     },
     "execution_count": 740,
     "metadata": {},
     "output_type": "execute_result"
    }
   ],
   "source": [
    "y.isnull().sum()"
   ]
  },
  {
   "cell_type": "code",
   "execution_count": 741,
   "metadata": {},
   "outputs": [
    {
     "data": {
      "text/plain": [
       "RandomForestRegressor(bootstrap=True, criterion='mse', max_depth=None,\n",
       "           max_features='auto', max_leaf_nodes=None,\n",
       "           min_impurity_decrease=0.0, min_impurity_split=None,\n",
       "           min_samples_leaf=1, min_samples_split=2,\n",
       "           min_weight_fraction_leaf=0.0, n_estimators=100, n_jobs=None,\n",
       "           oob_score=False, random_state=None, verbose=0, warm_start=False)"
      ]
     },
     "execution_count": 741,
     "metadata": {},
     "output_type": "execute_result"
    }
   ],
   "source": [
    "rf.fit(X,y)"
   ]
  },
  {
   "cell_type": "code",
   "execution_count": 742,
   "metadata": {},
   "outputs": [
    {
     "data": {
      "text/plain": [
       "Year                                                                 0\n",
       "Month                                                                0\n",
       "Day                                                                  0\n",
       "Temp high (°C)                                                       0\n",
       "Temp avg (°C)                                                        0\n",
       "Temp low (°C)                                                        0\n",
       "Dew Point high (°C)                                                  0\n",
       "Dew Point avg (°C)                                                   0\n",
       "Dew Point low (°C)                                                   0\n",
       "Humidity(%) high                                                     0\n",
       "Humidity(%) avg                                                      0\n",
       "Humidity(%) low                                                      0\n",
       "Sea Level Press.(hPa) high                                           0\n",
       "Sea Level Press.(hPa) avg                                            0\n",
       "Sea Level Press.(hPa) low                                            0\n",
       "Visibility(km) high                                                  0\n",
       "Visibility(km) avg                                                   0\n",
       "Visibility(km) low                                                   0\n",
       "Wind(km/h) low                                                       0\n",
       "Wind(km/h) avg                                                       0\n",
       "Wind(km/h) high                                                      0\n",
       "Monthly Nominal GDP Index (inMillion$)                               0\n",
       "Monthly Real GDP Index (inMillion$)                                  0\n",
       "CPI                                                                  0\n",
       "unemployment rate                                                    0\n",
       "CommercialBankInterestRateonCreditCardPlans                          0\n",
       "Finance Rate on Personal Loans at Commercial Banks, 24 Month Loan    0\n",
       "Earnings or wages  in dollars per hour                               0\n",
       "Cotton Monthly Price - US cents per Pound(lbs)                       0\n",
       "Change(in%)                                                          0\n",
       "Average upland planted(million acres)                                0\n",
       "Average upland harvested(million acres)                              0\n",
       "yieldperharvested acre                                               0\n",
       "Production (in  480-lb netweright in million bales)                  0\n",
       "Mill use  (in  480-lb netweright in million bales)                   0\n",
       "Exports                                                              0\n",
       "ProductCategory_MenClothing                                          0\n",
       "ProductCategory_OtherClothing                                        0\n",
       "ProductCategory_WomenClothing                                        0\n",
       "dtype: int64"
      ]
     },
     "execution_count": 742,
     "metadata": {},
     "output_type": "execute_result"
    }
   ],
   "source": [
    "testdata1.isnull().sum()"
   ]
  },
  {
   "cell_type": "code",
   "execution_count": 743,
   "metadata": {},
   "outputs": [],
   "source": [
    "pred=rf.predict(testdata1)"
   ]
  },
  {
   "cell_type": "code",
   "execution_count": 744,
   "metadata": {},
   "outputs": [
    {
     "data": {
      "text/plain": [
       "36"
      ]
     },
     "execution_count": 744,
     "metadata": {},
     "output_type": "execute_result"
    }
   ],
   "source": [
    "pred.size"
   ]
  },
  {
   "cell_type": "code",
   "execution_count": 745,
   "metadata": {},
   "outputs": [],
   "source": [
    "df=pd.DataFrame({'S.No.':np.arange(1,37),'Sales':pred})\n",
    "df.to_csv('df.csv',index=False)"
   ]
  },
  {
   "cell_type": "code",
   "execution_count": null,
   "metadata": {},
   "outputs": [],
   "source": []
  },
  {
   "cell_type": "code",
   "execution_count": null,
   "metadata": {},
   "outputs": [],
   "source": []
  }
 ],
 "metadata": {
  "kernelspec": {
   "display_name": "Python 3",
   "language": "python",
   "name": "python3"
  },
  "language_info": {
   "codemirror_mode": {
    "name": "ipython",
    "version": 3
   },
   "file_extension": ".py",
   "mimetype": "text/x-python",
   "name": "python",
   "nbconvert_exporter": "python",
   "pygments_lexer": "ipython3",
   "version": "3.7.3"
  }
 },
 "nbformat": 4,
 "nbformat_minor": 2
}
